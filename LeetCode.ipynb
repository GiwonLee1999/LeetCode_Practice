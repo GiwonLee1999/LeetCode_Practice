{
 "cells": [
  {
   "cell_type": "markdown",
   "metadata": {},
   "source": [
    "### Source\n",
    "##### https://algomap.io/\n",
    "##### Leetcode"
   ]
  },
  {
   "cell_type": "code",
   "execution_count": 6,
   "metadata": {},
   "outputs": [
    {
     "name": "stdout",
     "output_type": "stream",
     "text": [
      "0\n"
     ]
    },
    {
     "data": {
      "text/plain": [
       "2"
      ]
     },
     "execution_count": 6,
     "metadata": {},
     "output_type": "execute_result"
    }
   ],
   "source": [
    "# 136. Single Number\n",
    "def singleNumber(nums):\n",
    "    for i in range(len(nums)):\n",
    "        if nums[i] in nums:\n",
    "            \n",
    "            print(i)\n",
    "            return nums[i]\n",
    "        \n",
    "    return nums\n",
    "\n",
    "\n",
    "singleNumber([2,2,1])"
   ]
  },
  {
   "cell_type": "code",
   "execution_count": 6,
   "metadata": {},
   "outputs": [],
   "source": [
    "# 338. Counting Bits\n",
    "## Count number of 1s in bits in 1 to n integer\n",
    "class Solution(object):\n",
    "    def countBits(self, n):\n",
    "        \"\"\"\n",
    "        :type n: int\n",
    "        :rtype: List[int]\n",
    "        \"\"\"\n",
    "        list = []\n",
    "        for i in range(n + 1):\n",
    "            bit = str(bin(i)[2:])\n",
    "            list.append(bit.count('1'))\n",
    "        return list"
   ]
  },
  {
   "cell_type": "code",
   "execution_count": 7,
   "metadata": {},
   "outputs": [
    {
     "data": {
      "text/plain": [
       "1"
      ]
     },
     "execution_count": 7,
     "metadata": {},
     "output_type": "execute_result"
    }
   ],
   "source": [
    "# 2239. Find Closest Number to Zero\n",
    "\n",
    "\n",
    "nums = [2,1,1,-1,100000]\n",
    "class Solution(object):\n",
    "    def findClosestNumber(self, nums):\n",
    "        min = abs(nums[0])\n",
    "        temp = min\n",
    "        if 0 in nums:\n",
    "            return 0\n",
    "\n",
    "        for i in nums:\n",
    "            if min >= abs(i):\n",
    "                min,temp = abs(i), i\n",
    "                if temp in nums and temp*-1 in nums:\n",
    "                    temp = abs(temp)       \n",
    "      \n",
    "        return temp\n",
    "\n",
    "        \n",
    "Solution.findClosestNumber(Solution,nums)"
   ]
  },
  {
   "cell_type": "code",
   "execution_count": 46,
   "metadata": {},
   "outputs": [
    {
     "data": {
      "text/plain": [
       "'apbqcd'"
      ]
     },
     "execution_count": 46,
     "metadata": {},
     "output_type": "execute_result"
    }
   ],
   "source": [
    "# 1768. Merge Strings Alternately\n",
    "word1 = \"abcd\"\n",
    "word2 = \"pq\"\n",
    "\n",
    "class Solution(object):\n",
    "    def mergeAlternately(self, word1, word2):\n",
    "       \n",
    "        result = []\n",
    "        i = 0\n",
    "        while i < len(word1) or i < len(word2):\n",
    "            if i < len(word1):\n",
    "                result.append(word1[i])\n",
    "            if i < len(word2):\n",
    "                result.append(word2[i])\n",
    "            i += 1\n",
    "        return ''.join(result)\n",
    "Solution.mergeAlternately(Solution,word1,word2)\n",
    "\n",
    "# Outstanding solutions credit: jacpul\n",
    "class Solution(object):\n",
    "    def mergeAlternately(self, word1, word2):\n",
    "        result = ''\n",
    "        len1, len2 = len(word1), len(word2)\n",
    "        for i in range(min(len1, len2)):\n",
    "            result += word1[i] + word2[i]\n",
    "        if len1 > len2:\n",
    "            result += word1[len2:]\n",
    "        else:\n",
    "            result += word2[len1:]\n",
    "        return result\n"
   ]
  },
  {
   "cell_type": "code",
   "execution_count": 42,
   "metadata": {},
   "outputs": [
    {
     "name": "stdout",
     "output_type": "stream",
     "text": [
      "0\n",
      "1000\n",
      "1900\n",
      "1990\n"
     ]
    }
   ],
   "source": [
    "# 13. Roman to Integer\n",
    "a = \"III\"\n",
    "b = \"LVIII\"\n",
    "c = \"MCMXCIV\"\n",
    "\n",
    "def switch(roman):\n",
    "    if roman == \"I\":\n",
    "        return 1\n",
    "    elif roman == \"V\":\n",
    "        return 5\n",
    "    elif roman == \"X\":\n",
    "        return 10\n",
    "    elif roman == \"L\":\n",
    "        return 50\n",
    "    elif roman == \"C\":\n",
    "        return 100\n",
    "    elif roman == \"D\":\n",
    "        return 500\n",
    "    elif roman == \"M\":\n",
    "        return 1000\n",
    "\n",
    "class Solution(object):\n",
    "   \n",
    "    def romanToInt(self, s):\n",
    "        \"\"\"\n",
    "        :type s: str\n",
    "        :rtype: int\n",
    "        \"\"\"\n",
    "        i = 0 \n",
    "        sum = 0\n",
    "        while i < len(s):\n",
    "            print(sum)\n",
    "            if i+1 < len(s) and switch(s[i]) < switch(s[i+1]): \n",
    "                sum += switch(s[i+1]) - switch(s[i])\n",
    "                if i <= len(s) - 2:\n",
    "                    i += 2\n",
    "                else:\n",
    "                    i += 1\n",
    "            else:\n",
    "                sum += switch(s[i])\n",
    "                i += 1\n",
    "\n",
    "        return sum\n",
    "Solution.romanToInt(Solution,c)\n",
    "\n",
    "\n",
    "# Outstanding solution, credit: hgrsd\n",
    "\n",
    "class Solution:\n",
    "    def romanToInt(self, s: str) -> int:\n",
    "        translations = {\n",
    "            \"I\": 1,\n",
    "            \"V\": 5,\n",
    "            \"X\": 10,\n",
    "            \"L\": 50,\n",
    "            \"C\": 100,\n",
    "            \"D\": 500,\n",
    "            \"M\": 1000\n",
    "        }\n",
    "        number = 0\n",
    "        s = s.replace(\"IV\", \"IIII\").replace(\"IX\", \"VIIII\")\n",
    "        s = s.replace(\"XL\", \"XXXX\").replace(\"XC\", \"LXXXX\")\n",
    "        s = s.replace(\"CD\", \"CCCC\").replace(\"CM\", \"DCCCC\")\n",
    "        for char in s:\n",
    "            number += translations[char]\n",
    "        return number\n",
    "        "
   ]
  },
  {
   "cell_type": "code",
   "execution_count": 1,
   "metadata": {},
   "outputs": [
    {
     "data": {
      "text/plain": [
       "True"
      ]
     },
     "execution_count": 1,
     "metadata": {},
     "output_type": "execute_result"
    }
   ],
   "source": [
    "# 392. Is Subsequence\n",
    "s = \"abc\"\n",
    "t = \"ahbgdc\"\n",
    "\n",
    "# 1hr 17minutes time over, was not able to get clean and fast solution.\n",
    "# Credit: mageshyt\n",
    "class Solution(object):\n",
    "    def isSubsequence(self, s, t):\n",
    "        \"\"\"\n",
    "        :type s: str\n",
    "        :type t: str\n",
    "        :rtype: bool\n",
    "        \"\"\"\n",
    "        i, j  = 0, 0\n",
    "\n",
    "        while i < len(s) and j < len(t):\n",
    "            if s[i] == t[j]:\n",
    "                i += 1\n",
    "            j += 1\n",
    "        \n",
    "        return i == len(s)\n",
    "\n",
    "\n",
    "Solution.isSubsequence(Solution,s,t)"
   ]
  },
  {
   "cell_type": "code",
   "execution_count": 2,
   "metadata": {},
   "outputs": [
    {
     "data": {
      "text/plain": [
       "5"
      ]
     },
     "execution_count": 2,
     "metadata": {},
     "output_type": "execute_result"
    }
   ],
   "source": [
    "# 121. Best Time to Buy and Sell Stock\n",
    "# This question was done very recently, I somehow remembered the entire solution...\n",
    "prices = [7,1,5,3,6,4]\n",
    "\n",
    "class Solution(object):\n",
    "    def maxProfit(self, prices):\n",
    "        max_profit = 0\n",
    "        buy = prices[0]\n",
    "\n",
    "        for sell in prices[1:]:\n",
    "            # update max_profit if you can make profit by selling the stock\n",
    "            if sell > buy :\n",
    "                max_profit = max(max_profit,sell - buy)\n",
    "            # else update variable with the current stock price.\n",
    "            else:\n",
    "                buy = sell\n",
    "\n",
    "        return max_profit\n",
    "    \n",
    "\n",
    "def sell(prices):\n",
    "    profit = 0\n",
    "    buy = prices[0]\n",
    "\n",
    "    for sell in prices[1:]:\n",
    "        if buy < sell:\n",
    "            profit = max(profit, sell - buy)\n",
    "        else:\n",
    "            buy = sell\n",
    "\n",
    "    return profit\n",
    "\n",
    "sell(prices)"
   ]
  },
  {
   "cell_type": "code",
   "execution_count": 1,
   "metadata": {},
   "outputs": [
    {
     "data": {
      "text/plain": [
       "'fl'"
      ]
     },
     "execution_count": 1,
     "metadata": {},
     "output_type": "execute_result"
    }
   ],
   "source": [
    "# 14. Longest Common Prefix\n",
    "strs = [\"flower\",\"flow\",\"flight\"]\n",
    "\n",
    "class Solution(object):\n",
    "    def longestCommonPrefix(self, strs):\n",
    "        \"\"\"\n",
    "        :type strs: List[str]\n",
    "        :rtype: str\n",
    "        \"\"\"\n",
    "        if len(strs) == 0:\n",
    "            return \"\"\n",
    "        \n",
    "        str = strs[0][0]\n",
    "        ind = 0\n",
    "        while(True):\n",
    "            for i in range(len(strs)):\n",
    "                if str != strs[i][ind]:\n",
    "                    if strs[0][0] != strs[1][0]:\n",
    "                        return \"\"\n",
    "                    else:\n",
    "                        return str\n",
    "            ind += 1\n",
    "            str += strs[0][ind]\n",
    "            print(str)\n",
    "            if ind == len(strs) - 1:\n",
    "                print(ind , \" \" , len(strs))\n",
    "                break\n",
    "\n",
    "        return str\n",
    "\n",
    "# Outstanding answer: Credit: AlgoEngine\n",
    "class Solution(object):\n",
    "    def longestCommonPrefix(self, strs):\n",
    "        if len(strs) == 0:\n",
    "            return \"\"\n",
    "\n",
    "        base = strs[0]\n",
    "        for i in range(len(base)):\n",
    "            for word in strs[1:]:\n",
    "                if i == len(word) or word[i] != base[i]:\n",
    "                    return base[0:i]\n",
    "\n",
    "        return base\n",
    "    \n",
    "\n",
    "def longestCommonPrefix(strs):\n",
    "    if not strs:\n",
    "        return \"\"\n",
    "    prefix = strs[0]\n",
    "\n",
    "    # second_element in strs[1:]\n",
    "    for string in strs[1:]:\n",
    "        # searches for the first occurrence of substring in string.\n",
    "        while string.find(prefix) != 0:\n",
    "            # slice the last letter\n",
    "            prefix = prefix[:-1]\n",
    "            if not prefix:\n",
    "                return \"\"\n",
    "    return prefix\n",
    "longestCommonPrefix(strs)"
   ]
  },
  {
   "cell_type": "code",
   "execution_count": 1,
   "metadata": {},
   "outputs": [
    {
     "data": {
      "text/plain": [
       "['0->2', '4->5', '7']"
      ]
     },
     "execution_count": 1,
     "metadata": {},
     "output_type": "execute_result"
    }
   ],
   "source": [
    "# 228. Summary Ranges\n",
    "nums = [0,1,2,4,5,7]\n",
    "def summaryRanges( nums):\n",
    "    ranges = []\n",
    "    for n in nums:\n",
    "        if not ranges or n > ranges[-1][-1] + 1:\n",
    "            ranges += [],\n",
    "        ranges[-1][1:] = n,\n",
    "    return ['->'.join(map(str, r)) for r in ranges]\n",
    "\n",
    "def summaryRanges2(self, nums):\n",
    "    ranges, r = [], []\n",
    "    for n in nums:\n",
    "        if n-1 not in r:\n",
    "            r = []\n",
    "            ranges += r,\n",
    "        r[1:] = n,\n",
    "    return ['->'.join(map(str, r)) for r in ranges]\n",
    "summaryRanges(nums)"
   ]
  },
  {
   "cell_type": "code",
   "execution_count": 4,
   "metadata": {},
   "outputs": [
    {
     "name": "stdout",
     "output_type": "stream",
     "text": [
      "[1, 1, 2, 6]\n",
      "[1, 1, 2, 6]\n",
      "[1, 1, 8, 6]\n",
      "[1, 12, 8, 6]\n",
      "[24, 12, 8, 6]\n"
     ]
    },
    {
     "data": {
      "text/plain": [
       "[24, 12, 8, 6]"
      ]
     },
     "execution_count": 4,
     "metadata": {},
     "output_type": "execute_result"
    }
   ],
   "source": [
    "# 238. Product of Array Except Self\n",
    "nums = [1,2,3,4]\n",
    "from functools import reduce\n",
    "\n",
    "class Solution(object):\n",
    "    def productExceptSelf(self, nums):\n",
    "        \"\"\"\n",
    "        :type nums: List[int]\n",
    "        :rtype: List[int]\n",
    "        \"\"\"\n",
    "        l = []\n",
    "        for i in range(len(nums)):\n",
    "            if i == 0:\n",
    "                l.append(reduce(lambda x, y: x * y, nums[i+1:]))\n",
    "            elif i < len(nums):\n",
    "                l.append(reduce(lambda x, y: x * y,nums[:i] + nums[i + 1:]))\n",
    "            else:\n",
    "                l.append(reduce(lambda x, y: x * y, nums[:i]))\n",
    "        return l\n",
    "    \n",
    "# One of the solutions I found, credit: Gaurav@18\n",
    "def productExceptSelf(nums):\n",
    "        n = len(nums)\n",
    "        result = [1] * n\n",
    "        \n",
    "        # First pass: calculate the products of all elements to the left of each element\n",
    "        left_product = 1\n",
    "        for i in range(n):\n",
    "            result[i] = left_product\n",
    "            left_product *= nums[i]\n",
    "        print(result)\n",
    "        # Second pass: calculate the products of all elements to the right of each element\n",
    "        right_product = 1\n",
    "        for i in range(n - 1, -1, -1):\n",
    "            result[i] *= right_product\n",
    "            right_product *= nums[i]\n",
    "            print(result)\n",
    "        \n",
    "        return result\n",
    "productExceptSelf(nums)\n",
    "# Solution.productExceptSelf(Solution,nums)\n",
    "\n",
    "#credit: tomerdrr\n",
    "def productExceptSelf(self, nums):\n",
    "    \"\"\"\n",
    "    :type nums: List[int]\n",
    "    :rtype: List[int]\n",
    "    \"\"\"\n",
    "    \n",
    "    LEN = len(nums)\n",
    "    answer = [1]*LEN\n",
    "\n",
    "    for i in range(1, LEN):\n",
    "        answer[i] = answer[i-1] * nums[i-1]\n",
    "    \n",
    "    mul = 1\n",
    "    for i in range(LEN-1, -1, -1):\n",
    "        answer[i] *= mul\n",
    "        mul *= nums[i]\n",
    "\n",
    "    return answer"
   ]
  },
  {
   "cell_type": "code",
   "execution_count": null,
   "metadata": {},
   "outputs": [],
   "source": [
    "# 56. Merge Intervals\n",
    "# credits: niits\n",
    "intervals = [[1,3],[2,6],[8,10],[15,18]]\n",
    "class Solution:\n",
    "    def merge(self, intervals: List[List[int]]) -> List[List[int]]:        \n",
    "        merged = []\n",
    "        intervals.sort(key=lambda x: x[0])\n",
    "\n",
    "        prev = intervals[0]\n",
    "\n",
    "        for interval in intervals[1:]:\n",
    "            if interval[0] <= prev[1]:\n",
    "                prev[1] = max(prev[1], interval[1])\n",
    "            else:\n",
    "                merged.append(prev)\n",
    "                prev = interval\n",
    "        \n",
    "        merged.append(prev)\n",
    "\n",
    "        return merged\n",
    "Solution.merge(Solution,intervals)\n",
    "\n",
    "# C++ answer\n",
    "# class Solution {\n",
    "# public:\n",
    "#     vector<vector<int>> merge(vector<vector<int>>& intervals) {\n",
    "\n",
    "#         sort(intervals.begin(), intervals.end(), [](const vector<int>& a, const vector<int>& b) {\n",
    "#             return a[0] < b[0];\n",
    "#         });\n",
    "\n",
    "#         vector<vector<int>> merged;\n",
    "#         vector<int> prev = intervals[0];\n",
    "\n",
    "#         for (int i = 1; i < intervals.size(); ++i) {\n",
    "#             vector<int> interval = intervals[i];\n",
    "#             if (interval[0] <= prev[1]) {\n",
    "#                 prev[1] = max(prev[1], interval[1]);\n",
    "#             } else {\n",
    "#                 merged.push_back(prev);\n",
    "#                 prev = interval;\n",
    "#             }\n",
    "#         }\n",
    "\n",
    "#         merged.push_back(prev);\n",
    "#         return merged;        \n",
    "#     }\n",
    "# };\n"
   ]
  },
  {
   "cell_type": "code",
   "execution_count": 7,
   "metadata": {},
   "outputs": [],
   "source": [
    "# 54. Spiral Matrix\n",
    "\n",
    "# spent quite some time, and found this solution, i will never be this great\n",
    "# credits: StefanPochmann\n",
    "\n",
    "def spiralOrder(self, matrix):\n",
    "    return matrix and list(matrix.pop(0)) + self.spiralOrder(zip(*matrix)[::-1])\n",
    "\n",
    "\n",
    "# |1 2 3|      |6 9|      |8 7|      |4|  =>  |5|  =>  ||\n",
    "# |4 5 6|  =>  |5 8|  =>  |5 4|  =>  |5|\n",
    "# |7 8 9|      |4 7|\n",
    "\n",
    "\n",
    "#   spiral_order([[1, 2, 3],\n",
    "#                 [4, 5, 6],\n",
    "#                 [7, 8, 9]])\n",
    "\n",
    "# = [1, 2, 3] + spiral_order([[6, 9],\n",
    "#                             [5, 8],\n",
    "#                             [4, 7]])\n",
    "\n",
    "# = [1, 2, 3] + [6, 9] + spiral_order([[8, 7],\n",
    "#                                      [5, 4]])\n",
    "\n",
    "# = [1, 2, 3] + [6, 9] + [8, 7] + spiral_order([[4],\n",
    "#                                               [5]])\n",
    "\n",
    "# = [1, 2, 3] + [6, 9] + [8, 7] + [4] + spiral_order([[5]])\n",
    "\n",
    "# = [1, 2, 3] + [6, 9] + [8, 7] + [4] + [5] + spiral_order([])\n",
    "\n",
    "# = [1, 2, 3] + [6, 9] + [8, 7] + [4] + [5] + []\n",
    "\n",
    "# = [1, 2, 3, 6, 9, 8, 7, 4, 5]"
   ]
  },
  {
   "cell_type": "code",
   "execution_count": 8,
   "metadata": {},
   "outputs": [
    {
     "name": "stdout",
     "output_type": "stream",
     "text": [
      "[(7, 4, 1), (8, 5, 2), (9, 6, 3)]\n"
     ]
    }
   ],
   "source": [
    "# 48. Rotate Image\n",
    "\n",
    "matrix = [[1,2,3],[4,5,6],[7,8,9]]\n",
    "class Solution:\n",
    "    def rotate(self, A):\n",
    "        A[:] = zip(*A[::-1])\n",
    "        print(A)\n",
    "Solution.rotate(Solution,matrix)"
   ]
  },
  {
   "cell_type": "code",
   "execution_count": 13,
   "metadata": {},
   "outputs": [
    {
     "name": "stdout",
     "output_type": "stream",
     "text": [
      "a\n",
      "1\n",
      "4\n",
      "A\n",
      "2\n",
      "4\n",
      "\n"
     ]
    },
    {
     "data": {
      "text/plain": [
       "3"
      ]
     },
     "execution_count": 13,
     "metadata": {},
     "output_type": "execute_result"
    }
   ],
   "source": [
    "# 771. Jewels and Stones\n",
    "jewels = \"aA\"\n",
    "stones = \"aAAbbbb\"\n",
    "class Solution(object):\n",
    "    def numJewelsInStones(self, jewels, stones):\n",
    "        return sum(stones.count(j) for j in jewels)\n",
    "    \n",
    "Solution.numJewelsInStones(Solution,jewels,stones)"
   ]
  }
 ],
 "metadata": {
  "kernelspec": {
   "display_name": "Python 3",
   "language": "python",
   "name": "python3"
  },
  "language_info": {
   "codemirror_mode": {
    "name": "ipython",
    "version": 3
   },
   "file_extension": ".py",
   "mimetype": "text/x-python",
   "name": "python",
   "nbconvert_exporter": "python",
   "pygments_lexer": "ipython3",
   "version": "3.12.4"
  }
 },
 "nbformat": 4,
 "nbformat_minor": 2
}
