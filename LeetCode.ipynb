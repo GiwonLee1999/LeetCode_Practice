{
 "cells": [
  {
   "cell_type": "code",
   "execution_count": 6,
   "metadata": {},
   "outputs": [
    {
     "name": "stdout",
     "output_type": "stream",
     "text": [
      "0\n"
     ]
    },
    {
     "data": {
      "text/plain": [
       "2"
      ]
     },
     "execution_count": 6,
     "metadata": {},
     "output_type": "execute_result"
    }
   ],
   "source": [
    "# 136. Single Number\n",
    "def singleNumber(nums):\n",
    "    for i in range(len(nums)):\n",
    "        if nums[i] in nums:\n",
    "            \n",
    "            print(i)\n",
    "            return nums[i]\n",
    "        \n",
    "    return nums\n",
    "\n",
    "\n",
    "singleNumber([2,2,1])"
   ]
  },
  {
   "cell_type": "code",
   "execution_count": 6,
   "metadata": {},
   "outputs": [],
   "source": [
    "# 338. Counting Bits\n",
    "## Count number of 1s in bits in 1 to n integer\n",
    "class Solution(object):\n",
    "    def countBits(self, n):\n",
    "        \"\"\"\n",
    "        :type n: int\n",
    "        :rtype: List[int]\n",
    "        \"\"\"\n",
    "        list = []\n",
    "        for i in range(n + 1):\n",
    "            bit = str(bin(i)[2:])\n",
    "            list.append(bit.count('1'))\n",
    "        return list"
   ]
  },
  {
   "cell_type": "code",
   "execution_count": 7,
   "metadata": {},
   "outputs": [
    {
     "data": {
      "text/plain": [
       "1"
      ]
     },
     "execution_count": 7,
     "metadata": {},
     "output_type": "execute_result"
    }
   ],
   "source": [
    "# 2239. Find Closest Number to Zero\n",
    "\n",
    "\n",
    "nums = [2,1,1,-1,100000]\n",
    "class Solution(object):\n",
    "    def findClosestNumber(self, nums):\n",
    "        min = abs(nums[0])\n",
    "        temp = min\n",
    "        if 0 in nums:\n",
    "            return 0\n",
    "\n",
    "        for i in nums:\n",
    "            if min >= abs(i):\n",
    "                min,temp = abs(i), i\n",
    "                if temp in nums and temp*-1 in nums:\n",
    "                    temp = abs(temp)       \n",
    "      \n",
    "        return temp\n",
    "\n",
    "        \n",
    "Solution.findClosestNumber(Solution,nums)"
   ]
  },
  {
   "cell_type": "code",
   "execution_count": 46,
   "metadata": {},
   "outputs": [
    {
     "data": {
      "text/plain": [
       "'apbqcd'"
      ]
     },
     "execution_count": 46,
     "metadata": {},
     "output_type": "execute_result"
    }
   ],
   "source": [
    "# 1768. Merge Strings Alternately\n",
    "word1 = \"abcd\"\n",
    "word2 = \"pq\"\n",
    "\n",
    "class Solution(object):\n",
    "    def mergeAlternately(self, word1, word2):\n",
    "       \n",
    "        result = []\n",
    "        i = 0\n",
    "        while i < len(word1) or i < len(word2):\n",
    "            if i < len(word1):\n",
    "                result.append(word1[i])\n",
    "            if i < len(word2):\n",
    "                result.append(word2[i])\n",
    "            i += 1\n",
    "        return ''.join(result)\n",
    "Solution.mergeAlternately(Solution,word1,word2)\n",
    "\n",
    "# Outstanding solutions credit: jacpul\n",
    "class Solution(object):\n",
    "    def mergeAlternately(self, word1, word2):\n",
    "        result = ''\n",
    "        len1, len2 = len(word1), len(word2)\n",
    "        for i in range(min(len1, len2)):\n",
    "            result += word1[i] + word2[i]\n",
    "        if len1 > len2:\n",
    "            result += word1[len2:]\n",
    "        else:\n",
    "            result += word2[len1:]\n",
    "        return result\n"
   ]
  },
  {
   "cell_type": "code",
   "execution_count": 42,
   "metadata": {},
   "outputs": [
    {
     "name": "stdout",
     "output_type": "stream",
     "text": [
      "0\n",
      "1000\n",
      "1900\n",
      "1990\n"
     ]
    }
   ],
   "source": [
    "# 13. Roman to Integer\n",
    "a = \"III\"\n",
    "b = \"LVIII\"\n",
    "c = \"MCMXCIV\"\n",
    "\n",
    "def switch(roman):\n",
    "    if roman == \"I\":\n",
    "        return 1\n",
    "    elif roman == \"V\":\n",
    "        return 5\n",
    "    elif roman == \"X\":\n",
    "        return 10\n",
    "    elif roman == \"L\":\n",
    "        return 50\n",
    "    elif roman == \"C\":\n",
    "        return 100\n",
    "    elif roman == \"D\":\n",
    "        return 500\n",
    "    elif roman == \"M\":\n",
    "        return 1000\n",
    "\n",
    "class Solution(object):\n",
    "   \n",
    "    def romanToInt(self, s):\n",
    "        \"\"\"\n",
    "        :type s: str\n",
    "        :rtype: int\n",
    "        \"\"\"\n",
    "        i = 0 \n",
    "        sum = 0\n",
    "        while i < len(s):\n",
    "            print(sum)\n",
    "            if i+1 < len(s) and switch(s[i]) < switch(s[i+1]): \n",
    "                sum += switch(s[i+1]) - switch(s[i])\n",
    "                if i <= len(s) - 2:\n",
    "                    i += 2\n",
    "                else:\n",
    "                    i += 1\n",
    "            else:\n",
    "                sum += switch(s[i])\n",
    "                i += 1\n",
    "\n",
    "        return sum\n",
    "Solution.romanToInt(Solution,c)\n",
    "\n",
    "\n",
    "# Outstanding solution, credit: hgrsd\n",
    "\n",
    "class Solution:\n",
    "    def romanToInt(self, s: str) -> int:\n",
    "        translations = {\n",
    "            \"I\": 1,\n",
    "            \"V\": 5,\n",
    "            \"X\": 10,\n",
    "            \"L\": 50,\n",
    "            \"C\": 100,\n",
    "            \"D\": 500,\n",
    "            \"M\": 1000\n",
    "        }\n",
    "        number = 0\n",
    "        s = s.replace(\"IV\", \"IIII\").replace(\"IX\", \"VIIII\")\n",
    "        s = s.replace(\"XL\", \"XXXX\").replace(\"XC\", \"LXXXX\")\n",
    "        s = s.replace(\"CD\", \"CCCC\").replace(\"CM\", \"DCCCC\")\n",
    "        for char in s:\n",
    "            number += translations[char]\n",
    "        return number\n",
    "        "
   ]
  },
  {
   "cell_type": "code",
   "execution_count": 43,
   "metadata": {},
   "outputs": [],
   "source": [
    "# # 392. Is Subsequence\n",
    "# s = \"abc\"\n",
    "# t = \"ahbgdc\"\n",
    "\n",
    "# class Solution(object):\n",
    "#     def isSubsequence(self, s, t):\n",
    "#         \"\"\"\n",
    "#         :type s: str\n",
    "#         :type t: str\n",
    "#         :rtype: bool\n",
    "#         \"\"\"\n",
    "#         if len(s) > len(t):\n",
    "#             return False\n",
    "\n",
    "#         i = 0\n",
    "#         j = 0\n",
    "#         while i < len(s) and j < len(t):\n",
    "#             if s[i] == t[j]:\n",
    "#                 i += 1\n",
    "#                 j += 1\n",
    "#             elif s[i] != t[j]:\n",
    "#                 j += 1\n",
    "\n",
    "\n",
    "# Solution.isSubsequence(Solution,s,t)"
   ]
  },
  {
   "cell_type": "code",
   "execution_count": null,
   "metadata": {},
   "outputs": [],
   "source": [
    "\n"
   ]
  }
 ],
 "metadata": {
  "kernelspec": {
   "display_name": "Python 3",
   "language": "python",
   "name": "python3"
  },
  "language_info": {
   "codemirror_mode": {
    "name": "ipython",
    "version": 3
   },
   "file_extension": ".py",
   "mimetype": "text/x-python",
   "name": "python",
   "nbconvert_exporter": "python",
   "pygments_lexer": "ipython3",
   "version": "3.12.3"
  }
 },
 "nbformat": 4,
 "nbformat_minor": 2
}
