{
 "cells": [
  {
   "cell_type": "markdown",
   "metadata": {},
   "source": [
    "### Source\n",
    "##### https://algomap.io/\n",
    "##### Leetcode"
   ]
  },
  {
   "cell_type": "code",
   "execution_count": 6,
   "metadata": {},
   "outputs": [
    {
     "name": "stdout",
     "output_type": "stream",
     "text": [
      "0\n"
     ]
    },
    {
     "data": {
      "text/plain": [
       "2"
      ]
     },
     "execution_count": 6,
     "metadata": {},
     "output_type": "execute_result"
    }
   ],
   "source": [
    "# 136. Single Number\n",
    "def singleNumber(nums):\n",
    "    for i in range(len(nums)):\n",
    "        if nums[i] in nums:\n",
    "            \n",
    "            print(i)\n",
    "            return nums[i]\n",
    "        \n",
    "    return nums\n",
    "\n",
    "\n",
    "singleNumber([2,2,1])"
   ]
  },
  {
   "cell_type": "code",
   "execution_count": 6,
   "metadata": {},
   "outputs": [],
   "source": [
    "# 338. Counting Bits\n",
    "## Count number of 1s in bits in 1 to n integer\n",
    "class Solution(object):\n",
    "    def countBits(self, n):\n",
    "        \"\"\"\n",
    "        :type n: int\n",
    "        :rtype: List[int]\n",
    "        \"\"\"\n",
    "        list = []\n",
    "        for i in range(n + 1):\n",
    "            bit = str(bin(i)[2:])\n",
    "            list.append(bit.count('1'))\n",
    "        return list"
   ]
  },
  {
   "cell_type": "code",
   "execution_count": 7,
   "metadata": {},
   "outputs": [
    {
     "data": {
      "text/plain": [
       "1"
      ]
     },
     "execution_count": 7,
     "metadata": {},
     "output_type": "execute_result"
    }
   ],
   "source": [
    "# 2239. Find Closest Number to Zero\n",
    "\n",
    "\n",
    "nums = [2,1,1,-1,100000]\n",
    "class Solution(object):\n",
    "    def findClosestNumber(self, nums):\n",
    "        min = abs(nums[0])\n",
    "        temp = min\n",
    "        if 0 in nums:\n",
    "            return 0\n",
    "\n",
    "        for i in nums:\n",
    "            if min >= abs(i):\n",
    "                min,temp = abs(i), i\n",
    "                if temp in nums and temp*-1 in nums:\n",
    "                    temp = abs(temp)       \n",
    "      \n",
    "        return temp\n",
    "\n",
    "        \n",
    "Solution.findClosestNumber(Solution,nums)"
   ]
  },
  {
   "cell_type": "code",
   "execution_count": 46,
   "metadata": {},
   "outputs": [
    {
     "data": {
      "text/plain": [
       "'apbqcd'"
      ]
     },
     "execution_count": 46,
     "metadata": {},
     "output_type": "execute_result"
    }
   ],
   "source": [
    "# 1768. Merge Strings Alternately\n",
    "word1 = \"abcd\"\n",
    "word2 = \"pq\"\n",
    "\n",
    "class Solution(object):\n",
    "    def mergeAlternately(self, word1, word2):\n",
    "       \n",
    "        result = []\n",
    "        i = 0\n",
    "        while i < len(word1) or i < len(word2):\n",
    "            if i < len(word1):\n",
    "                result.append(word1[i])\n",
    "            if i < len(word2):\n",
    "                result.append(word2[i])\n",
    "            i += 1\n",
    "        return ''.join(result)\n",
    "Solution.mergeAlternately(Solution,word1,word2)\n",
    "\n",
    "# Outstanding solutions credit: jacpul\n",
    "class Solution(object):\n",
    "    def mergeAlternately(self, word1, word2):\n",
    "        result = ''\n",
    "        len1, len2 = len(word1), len(word2)\n",
    "        for i in range(min(len1, len2)):\n",
    "            result += word1[i] + word2[i]\n",
    "        if len1 > len2:\n",
    "            result += word1[len2:]\n",
    "        else:\n",
    "            result += word2[len1:]\n",
    "        return result\n"
   ]
  },
  {
   "cell_type": "code",
   "execution_count": 42,
   "metadata": {},
   "outputs": [
    {
     "name": "stdout",
     "output_type": "stream",
     "text": [
      "0\n",
      "1000\n",
      "1900\n",
      "1990\n"
     ]
    }
   ],
   "source": [
    "# 13. Roman to Integer\n",
    "a = \"III\"\n",
    "b = \"LVIII\"\n",
    "c = \"MCMXCIV\"\n",
    "\n",
    "def switch(roman):\n",
    "    if roman == \"I\":\n",
    "        return 1\n",
    "    elif roman == \"V\":\n",
    "        return 5\n",
    "    elif roman == \"X\":\n",
    "        return 10\n",
    "    elif roman == \"L\":\n",
    "        return 50\n",
    "    elif roman == \"C\":\n",
    "        return 100\n",
    "    elif roman == \"D\":\n",
    "        return 500\n",
    "    elif roman == \"M\":\n",
    "        return 1000\n",
    "\n",
    "class Solution(object):\n",
    "   \n",
    "    def romanToInt(self, s):\n",
    "        \"\"\"\n",
    "        :type s: str\n",
    "        :rtype: int\n",
    "        \"\"\"\n",
    "        i = 0 \n",
    "        sum = 0\n",
    "        while i < len(s):\n",
    "            print(sum)\n",
    "            if i+1 < len(s) and switch(s[i]) < switch(s[i+1]): \n",
    "                sum += switch(s[i+1]) - switch(s[i])\n",
    "                if i <= len(s) - 2:\n",
    "                    i += 2\n",
    "                else:\n",
    "                    i += 1\n",
    "            else:\n",
    "                sum += switch(s[i])\n",
    "                i += 1\n",
    "\n",
    "        return sum\n",
    "Solution.romanToInt(Solution,c)\n",
    "\n",
    "\n",
    "# Outstanding solution, credit: hgrsd\n",
    "\n",
    "class Solution:\n",
    "    def romanToInt(self, s: str) -> int:\n",
    "        translations = {\n",
    "            \"I\": 1,\n",
    "            \"V\": 5,\n",
    "            \"X\": 10,\n",
    "            \"L\": 50,\n",
    "            \"C\": 100,\n",
    "            \"D\": 500,\n",
    "            \"M\": 1000\n",
    "        }\n",
    "        number = 0\n",
    "        s = s.replace(\"IV\", \"IIII\").replace(\"IX\", \"VIIII\")\n",
    "        s = s.replace(\"XL\", \"XXXX\").replace(\"XC\", \"LXXXX\")\n",
    "        s = s.replace(\"CD\", \"CCCC\").replace(\"CM\", \"DCCCC\")\n",
    "        for char in s:\n",
    "            number += translations[char]\n",
    "        return number\n",
    "        "
   ]
  },
  {
   "cell_type": "code",
   "execution_count": 1,
   "metadata": {},
   "outputs": [
    {
     "data": {
      "text/plain": [
       "True"
      ]
     },
     "execution_count": 1,
     "metadata": {},
     "output_type": "execute_result"
    }
   ],
   "source": [
    "# 392. Is Subsequence\n",
    "s = \"abc\"\n",
    "t = \"ahbgdc\"\n",
    "\n",
    "# 1hr 17minutes time over, was not able to get clean and fast solution.\n",
    "# Credit: mageshyt\n",
    "class Solution(object):\n",
    "    def isSubsequence(self, s, t):\n",
    "        \"\"\"\n",
    "        :type s: str\n",
    "        :type t: str\n",
    "        :rtype: bool\n",
    "        \"\"\"\n",
    "        i, j  = 0, 0\n",
    "\n",
    "        while i < len(s) and j < len(t):\n",
    "            if s[i] == t[j]:\n",
    "                i += 1\n",
    "            j += 1\n",
    "        \n",
    "        return i == len(s)\n",
    "\n",
    "\n",
    "Solution.isSubsequence(Solution,s,t)"
   ]
  },
  {
   "cell_type": "code",
   "execution_count": 2,
   "metadata": {},
   "outputs": [
    {
     "data": {
      "text/plain": [
       "5"
      ]
     },
     "execution_count": 2,
     "metadata": {},
     "output_type": "execute_result"
    }
   ],
   "source": [
    "# 121. Best Time to Buy and Sell Stock\n",
    "# This question was done very recently, I somehow remembered the entire solution...\n",
    "prices = [7,1,5,3,6,4]\n",
    "\n",
    "class Solution(object):\n",
    "    def maxProfit(self, prices):\n",
    "        max_profit = 0\n",
    "        buy = prices[0]\n",
    "\n",
    "        for sell in prices[1:]:\n",
    "            # update max_profit if you can make profit by selling the stock\n",
    "            if sell > buy :\n",
    "                max_profit = max(max_profit,sell - buy)\n",
    "            # else update variable with the current stock price.\n",
    "            else:\n",
    "                buy = sell\n",
    "\n",
    "        return max_profit\n",
    "    \n",
    "\n",
    "def sell(prices):\n",
    "    profit = 0\n",
    "    buy = prices[0]\n",
    "\n",
    "    for sell in prices[1:]:\n",
    "        if buy < sell:\n",
    "            profit = max(profit, sell - buy)\n",
    "        else:\n",
    "            buy = sell\n",
    "\n",
    "    return profit\n",
    "\n",
    "sell(prices)"
   ]
  },
  {
   "cell_type": "code",
   "execution_count": 40,
   "metadata": {},
   "outputs": [
    {
     "data": {
      "text/plain": [
       "'fl'"
      ]
     },
     "execution_count": 40,
     "metadata": {},
     "output_type": "execute_result"
    }
   ],
   "source": [
    "# 14. Longest Common Prefix\n",
    "strs = [\"flower\",\"flow\",\"flight\"]\n",
    "\n",
    "class Solution(object):\n",
    "    def longestCommonPrefix(self, strs):\n",
    "        \"\"\"\n",
    "        :type strs: List[str]\n",
    "        :rtype: str\n",
    "        \"\"\"\n",
    "        if len(strs) == 0:\n",
    "            return \"\"\n",
    "        \n",
    "        str = strs[0][0]\n",
    "        ind = 0\n",
    "        while(True):\n",
    "            for i in range(len(strs)):\n",
    "                if str != strs[i][ind]:\n",
    "                    if strs[0][0] != strs[1][0]:\n",
    "                        return \"\"\n",
    "                    else:\n",
    "                        return str\n",
    "            ind += 1\n",
    "            str += strs[0][ind]\n",
    "            print(str)\n",
    "            if ind == len(strs) - 1:\n",
    "                print(ind , \" \" , len(strs))\n",
    "                break\n",
    "\n",
    "        return str\n",
    "\n",
    "# Outstanding answer: Credit: AlgoEngine\n",
    "class Solution(object):\n",
    "    def longestCommonPrefix(self, strs):\n",
    "        if len(strs) == 0:\n",
    "            return \"\"\n",
    "\n",
    "        base = strs[0]\n",
    "        for i in range(len(base)):\n",
    "            for word in strs[1:]:\n",
    "                if i == len(word) or word[i] != base[i]:\n",
    "                    return base[0:i]\n",
    "\n",
    "        return base\n",
    "    \n",
    "\n",
    "def longestCommonPrefix(strs):\n",
    "    if not strs:\n",
    "        return \"\"\n",
    "    prefix = strs[0]\n",
    "\n",
    "    # second_element in strs[1:]\n",
    "    for string in strs[1:]:\n",
    "        # searches for the first occurrence of substring in string.\n",
    "        while string.find(prefix) != 0:\n",
    "            # slice the last letter\n",
    "            prefix = prefix[:-1]\n",
    "            if not prefix:\n",
    "                return \"\"\n",
    "    return prefix\n",
    "longestCommonPrefix(strs)"
   ]
  }
 ],
 "metadata": {
  "kernelspec": {
   "display_name": "Python 3",
   "language": "python",
   "name": "python3"
  },
  "language_info": {
   "codemirror_mode": {
    "name": "ipython",
    "version": 3
   },
   "file_extension": ".py",
   "mimetype": "text/x-python",
   "name": "python",
   "nbconvert_exporter": "python",
   "pygments_lexer": "ipython3",
   "version": "3.12.3"
  }
 },
 "nbformat": 4,
 "nbformat_minor": 2
}
